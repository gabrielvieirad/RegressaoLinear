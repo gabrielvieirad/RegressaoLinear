{
 "cells": [
  {
   "cell_type": "markdown",
   "id": "e77692a3",
   "metadata": {},
   "source": [
    "## Proposta:\n",
    "### Criar um modelo de regressão linear, para prever qual será o valor do investimento incial necessário de uma franquia a partir da taxa atual cobrado pelo franqueador."
   ]
  },
  {
   "cell_type": "code",
   "execution_count": 3,
   "id": "e3a8d0c8",
   "metadata": {},
   "outputs": [],
   "source": [
    "# Importando bibliotecas necessárias\n",
    "import pandas as pd\n",
    "import numpy as np\n",
    "import matplotlib.pyplot as plt\n",
    "from sklearn.linear_model import LinearRegression"
   ]
  },
  {
   "cell_type": "code",
   "execution_count": 11,
   "id": "69fcb129",
   "metadata": {},
   "outputs": [
    {
     "data": {
      "text/plain": [
       "(36, 2)"
      ]
     },
     "execution_count": 11,
     "metadata": {},
     "output_type": "execute_result"
    }
   ],
   "source": [
    "#importe da base de dados e visualizando sua extensão\n",
    "df = pd.read_csv(\"slr12.csv\", sep=\";\")\n",
    "df.shape"
   ]
  },
  {
   "cell_type": "code",
   "execution_count": 12,
   "id": "555c027f",
   "metadata": {},
   "outputs": [
    {
     "data": {
      "text/html": [
       "<div>\n",
       "<style scoped>\n",
       "    .dataframe tbody tr th:only-of-type {\n",
       "        vertical-align: middle;\n",
       "    }\n",
       "\n",
       "    .dataframe tbody tr th {\n",
       "        vertical-align: top;\n",
       "    }\n",
       "\n",
       "    .dataframe thead th {\n",
       "        text-align: right;\n",
       "    }\n",
       "</style>\n",
       "<table border=\"1\" class=\"dataframe\">\n",
       "  <thead>\n",
       "    <tr style=\"text-align: right;\">\n",
       "      <th></th>\n",
       "      <th>Taxa Atual</th>\n",
       "      <th>Investimento Incial</th>\n",
       "    </tr>\n",
       "  </thead>\n",
       "  <tbody>\n",
       "    <tr>\n",
       "      <th>0</th>\n",
       "      <td>1000</td>\n",
       "      <td>1050</td>\n",
       "    </tr>\n",
       "    <tr>\n",
       "      <th>1</th>\n",
       "      <td>1125</td>\n",
       "      <td>1150</td>\n",
       "    </tr>\n",
       "    <tr>\n",
       "      <th>2</th>\n",
       "      <td>1087</td>\n",
       "      <td>1213</td>\n",
       "    </tr>\n",
       "    <tr>\n",
       "      <th>3</th>\n",
       "      <td>1070</td>\n",
       "      <td>1275</td>\n",
       "    </tr>\n",
       "    <tr>\n",
       "      <th>4</th>\n",
       "      <td>1100</td>\n",
       "      <td>1300</td>\n",
       "    </tr>\n",
       "  </tbody>\n",
       "</table>\n",
       "</div>"
      ],
      "text/plain": [
       "   Taxa Atual  Investimento Incial\n",
       "0        1000                 1050\n",
       "1        1125                 1150\n",
       "2        1087                 1213\n",
       "3        1070                 1275\n",
       "4        1100                 1300"
      ]
     },
     "execution_count": 12,
     "metadata": {},
     "output_type": "execute_result"
    }
   ],
   "source": [
    "# Adequando as colunas\n",
    "df.columns = [\"Taxa Atual\", \"Investimento Incial\"]\n",
    "df.head()"
   ]
  },
  {
   "cell_type": "code",
   "execution_count": 15,
   "id": "60c9a05f",
   "metadata": {},
   "outputs": [
    {
     "data": {
      "text/plain": [
       "array([1000, 1125, 1087, 1070, 1100, 1150, 1250, 1150, 1100, 1350, 1275,\n",
       "       1375, 1175, 1200, 1175, 1300, 1260, 1330, 1325, 1200, 1225, 1090,\n",
       "       1075, 1080, 1080, 1180, 1225, 1175, 1250, 1250,  750, 1125,  700,\n",
       "        900,  900,  850], dtype=int64)"
      ]
     },
     "execution_count": 15,
     "metadata": {},
     "output_type": "execute_result"
    }
   ],
   "source": [
    "# Definição das variáveis X e Y, X (Taxa Atual) é a variável independente e Y (Investimento Inicial) variável dependente\n",
    "X = df.iloc[:,0].values\n",
    "y = df.iloc[:,1].values\n",
    "X"
   ]
  },
  {
   "cell_type": "code",
   "execution_count": 17,
   "id": "7bb0a264",
   "metadata": {},
   "outputs": [
    {
     "data": {
      "text/plain": [
       "array([[1.        , 0.47700725],\n",
       "       [0.47700725, 1.        ]])"
      ]
     },
     "execution_count": 17,
     "metadata": {},
     "output_type": "execute_result"
    }
   ],
   "source": [
    "# Calculando a correlação\n",
    "correlacao = np.corrcoef(X,y)\n",
    "correlacao"
   ]
  },
  {
   "cell_type": "code",
   "execution_count": 18,
   "id": "550cf3b1",
   "metadata": {},
   "outputs": [
    {
     "data": {
      "text/plain": [
       "LinearRegression()"
      ]
     },
     "execution_count": 18,
     "metadata": {},
     "output_type": "execute_result"
    }
   ],
   "source": [
    "# Aplicando a regressão linear\n",
    "X = X.reshape(-1,1)\n",
    "modelo = LinearRegression()\n",
    "modelo.fit(X,y)"
   ]
  },
  {
   "cell_type": "code",
   "execution_count": 22,
   "id": "fa2ba638",
   "metadata": {},
   "outputs": [
    {
     "data": {
      "text/plain": [
       "[<matplotlib.lines.Line2D at 0x99096b8>]"
      ]
     },
     "execution_count": 22,
     "metadata": {},
     "output_type": "execute_result"
    },
    {
     "data": {
      "image/png": "[encoded data removed]",
      "text/plain": [
       "<Figure size 432x288 with 1 Axes>"
      ]
     },
     "metadata": {
      "needs_background": "light"
     },
     "output_type": "display_data"
    }
   ],
   "source": [
    "# Plotando o gráfico com os pontos reais e previsões\n",
    "plt.scatter(X,y)\n",
    "plt.plot(X, modelo.predict(X), color=\"red\")"
   ]
  },
  {
   "cell_type": "code",
   "execution_count": 36,
   "id": "428525e2",
   "metadata": {},
   "outputs": [],
   "source": [
    "# Interação com o usuário\n",
    "vlr = int(input(\"Insira um valor desejado: \"))\n",
    "a = float(modelo.predict([[vlr]]))\n",
    "\n",
    "print(f\"O valor que irá pagar será de R$ {a:.2f}\")"
   ]
  }
 ],
 "metadata": {
  "kernelspec": {
   "display_name": "Python 3",
   "language": "python",
   "name": "python3"
  },
  "language_info": {
   "codemirror_mode": {
    "name": "ipython",
    "version": 3
   },
   "file_extension": ".py",
   "mimetype": "text/x-python",
   "name": "python",
   "nbconvert_exporter": "python",
   "pygments_lexer": "ipython3",
   "version": "3.8.8"
  }
 },
 "nbformat": 4,
 "nbformat_minor": 5
}
